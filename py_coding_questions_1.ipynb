{
 "cells": [
  {
   "cell_type": "markdown",
   "id": "8768e9b0-0175-4bba-a6ca-53ce9c65a66f",
   "metadata": {},
   "source": [
    "![py_questions](python_coding_questions.jpg)\n",
    "---\n",
    "## Pembahasan Python Screening Interview Questions for Data Science.\n",
    "### Galih Hermawan [ [Web](https://galih.eu) · [Tutorial](https://blog.galih.eu/) ]\n",
    "---"
   ]
  },
  {
   "cell_type": "markdown",
   "id": "ce054f8c-d4d5-4ded-a552-fb3bbae2d747",
   "metadata": {},
   "source": [
    "## 1. Cari angka dalam matriks berdasarkan kolom dan baris\n",
    "### a. Cara konvensional"
   ]
  },
  {
   "cell_type": "code",
   "execution_count": 101,
   "id": "91f5d8f3-d5aa-4a4f-b098-890cc1658239",
   "metadata": {},
   "outputs": [
    {
     "name": "stdout",
     "output_type": "stream",
     "text": [
      "[2, 2, 1, 2, 3]\n",
      "[3, 3, 1, 3]\n"
     ]
    }
   ],
   "source": [
    "\n",
    "a = [[1, 3, 3, 4, 3],\n",
    "     [2, 3, 1, 3, 3],\n",
    "     [3, 1, 2, 7, 1],\n",
    "     [3, 4, 4, 3, 3]]\n",
    "\n",
    "angkaCari = 3\n",
    "\n",
    "# cari di kolom -> [2,2,1,2,3]\n",
    "# lstK = [0, 0, 0, 0, 0]\n",
    "lstK = []\n",
    "for j in range(len(a[0])):\n",
    "    lstK.append(0)\n",
    "    for i in range(len(a)):\n",
    "        if a[i][j] == angkaCari:\n",
    "            lstK[j] += 1 \n",
    "print(lstK)\n",
    "\n",
    "# cari di baris -> [3,3,1,3]\n",
    "# lstB = [0, 0, 0, 0]\n",
    "lstB = []\n",
    "for i in range(len(a)):\n",
    "    lstB.append(0)\n",
    "    for j in range(len(a[i])):\n",
    "        if a[i][j] == angkaCari:\n",
    "            lstB[i] += 1 \n",
    "print(lstB)"
   ]
  },
  {
   "cell_type": "code",
   "execution_count": 2,
   "id": "f8c07841-872d-4c48-9b9f-d6db1fd94eea",
   "metadata": {},
   "outputs": [
    {
     "name": "stdout",
     "output_type": "stream",
     "text": [
      "Jumlah angka 3 pada kolom [0, 1, 2, 3, 4]\n",
      "[2, 2, 1, 2, 3]\n",
      "\n",
      "Jumlah angka 3 pada baris [0, 1, 2, 3]\n",
      "[3, 3, 1, 3]\n"
     ]
    }
   ],
   "source": [
    "# buat fungsi\n",
    "# dataList = sumber data, angkaCari = angka yang akan dicari, \n",
    "# baris = True (pencarian berdasarkan baris), False (pencarian berdasarkan kolom)\n",
    "def hitung_angka(dataList, angkaCari, baris = False):\n",
    "    if baris:\n",
    "        jmlItemSatu = len(dataList)\n",
    "        jmlItemDua = len(dataList[0])\n",
    "    else:\n",
    "        jmlItemDua = len(dataList)\n",
    "        jmlItemSatu = len(dataList[0])\n",
    "        \n",
    "    lstJumlah = []\n",
    "    for i in range(jmlItemSatu):\n",
    "        lstJumlah.append(0)\n",
    "        for j in range(jmlItemDua):\n",
    "            if baris:\n",
    "                if dataList[i][j] == angkaCari:\n",
    "                    lstJumlah[i] += 1 \n",
    "            else:\n",
    "                if dataList[j][i] == angkaCari:\n",
    "                    lstJumlah[i] += 1 \n",
    "    return lstJumlah\n",
    "\n",
    "# ukuran array -> jumlah kolom harus sama di setiap barisnya\n",
    "a = [[1, 3, 3, 4, 3],\n",
    "     [2, 3, 1, 3, 3],\n",
    "     [3, 1, 2, 7, 1],\n",
    "     [3, 4, 4, 3, 3]]\n",
    "\n",
    "angkaCari = 3\n",
    "\n",
    "print(f\"Jumlah angka {angkaCari} pada kolom {list(range(len(a[0])))}\")\n",
    "print(hitung_angka(a, angkaCari, baris=False))\n",
    "print(f\"\\nJumlah angka {angkaCari} pada baris {list(range(len(a)))}\")\n",
    "print(hitung_angka(a, angkaCari, baris=True))"
   ]
  },
  {
   "cell_type": "markdown",
   "id": "67242ca1-a5d6-45ae-988b-75cba3173f15",
   "metadata": {},
   "source": [
    "### b. Menggunakan *library* Numpy"
   ]
  },
  {
   "cell_type": "code",
   "execution_count": 7,
   "id": "e0e29b30-f9d2-47a6-bae5-410c5d482716",
   "metadata": {},
   "outputs": [
    {
     "name": "stdout",
     "output_type": "stream",
     "text": [
      "[2, 2, 1, 2, 3]\n",
      "[3, 3, 1, 3]\n"
     ]
    }
   ],
   "source": [
    "import numpy as np\n",
    "\"\"\"\n",
    "a2 = np.array([[1, 3, 3, 4, 3],\n",
    "               [2, 3, 1, 3, 3],\n",
    "               [3, 1, 2, 7, 1],\n",
    "               [3, 4, 4, 3, 3]])\n",
    "\"\"\"\n",
    "a2 = np.asarray(a)\n",
    "angkacari = 3\n",
    "# hitung isi a2 = 3, di setiap kolom\n",
    "print(np.count_nonzero(a2==angkacari, axis=0).tolist())\n",
    "\n",
    "# hitung isi a2 = 3, di setiap baris\n",
    "print(np.count_nonzero(a2==angkacari, axis=1).tolist())\n"
   ]
  },
  {
   "cell_type": "markdown",
   "id": "a01a4634-4583-448b-afcd-8d6da0fa4bcd",
   "metadata": {},
   "source": [
    "## 2. Menghitung elemen dalam list dan simpan dalam dictionary"
   ]
  },
  {
   "cell_type": "code",
   "execution_count": 49,
   "id": "5f48f850-f0b5-4e68-b86e-2b519c558671",
   "metadata": {},
   "outputs": [
    {
     "name": "stdout",
     "output_type": "stream",
     "text": [
      "{'a': 2, 'b': 2, 'c': 1, 'd': 3, 'e': 1, 'f': 1, 'g': 2, 'h': 1}\n"
     ]
    }
   ],
   "source": [
    "listHuruf = ['a','b','c','d','d','d','e','a','b','f','g','g','h']\n",
    "kamus = {}\n",
    "for i in listHuruf:\n",
    "    if i in kamus:\n",
    "        kamus[i] += 1\n",
    "    else:\n",
    "        kamus[i] = 1\n",
    "print(kamus)"
   ]
  },
  {
   "cell_type": "markdown",
   "id": "8b57031c-dcd3-4ccd-9c12-8bce013dd995",
   "metadata": {},
   "source": [
    "## 3. Reverse (membalik) string dan cek apakah palindrom"
   ]
  },
  {
   "cell_type": "code",
   "execution_count": 32,
   "id": "2a95420c-a38b-47ed-8e49-a690c36a9982",
   "metadata": {},
   "outputs": [
    {
     "name": "stdout",
     "output_type": "stream",
     "text": [
      "'toot' dibalik 'toot'\n",
      "Palindrom ? True\n"
     ]
    }
   ],
   "source": [
    "teks = \"toot\"\n",
    "#teks = \"kasur\"\n",
    "#teks = \"kasur rusak\"\n",
    "\n",
    "# hasil pembalikan string (teks)\n",
    "bteks = teks[-1::-1]\n",
    "print(f\"'{teks}' dibalik '{bteks}'\")\n",
    "# pengujian palindrom\n",
    "print(f\"Palindrom ? {bteks == teks}\")"
   ]
  },
  {
   "cell_type": "markdown",
   "id": "d1ad8a8a-1c05-4705-b4ed-c73eb50839ed",
   "metadata": {},
   "source": [
    "---\n",
    "Buat fungsi dan pengabaian terhadap huruf kapital serta karakter: spasi, titik, koma.<br/>\n",
    "Mengandung fungsi bawaan: lower() dan translate()"
   ]
  },
  {
   "cell_type": "code",
   "execution_count": 29,
   "id": "726dad54-1bf4-49d5-96fe-ef8e7327b35b",
   "metadata": {},
   "outputs": [
    {
     "name": "stdout",
     "output_type": "stream",
     "text": [
      "True\n"
     ]
    }
   ],
   "source": [
    "def cek_palindrom(teks):\n",
    "    str_abai = \" .,\" # karakter yang diabaikan\n",
    "    teks = teks.lower() # ubah ke huruf kecil\n",
    "    teks = teks.translate({ord(i): None for i in str_abai}) # hilangkan karakter yang ada di str_abai\n",
    "    bteks = teks[-1::-1]\n",
    "    return bteks == teks\n",
    "    \n",
    "#teks = \"toot\"\n",
    "#teks = \"kasur\"\n",
    "#teks = \"kasur rusak\"\n",
    "#teks = \"Ira hamil lima hari\"\n",
    "teks = \"Aku suka rajawali, bapak. Apabila wajar, aku suka\"\n",
    "\n",
    "print(cek_palindrom(teks))"
   ]
  },
  {
   "cell_type": "code",
   "execution_count": null,
   "id": "f08d494d-65e6-42bf-a5d6-017e1fe4f82b",
   "metadata": {},
   "outputs": [],
   "source": []
  }
 ],
 "metadata": {
  "kernelspec": {
   "display_name": "ml39",
   "language": "python",
   "name": "ml"
  },
  "language_info": {
   "codemirror_mode": {
    "name": "ipython",
    "version": 3
   },
   "file_extension": ".py",
   "mimetype": "text/x-python",
   "name": "python",
   "nbconvert_exporter": "python",
   "pygments_lexer": "ipython3",
   "version": "3.9.7"
  }
 },
 "nbformat": 4,
 "nbformat_minor": 5
}
